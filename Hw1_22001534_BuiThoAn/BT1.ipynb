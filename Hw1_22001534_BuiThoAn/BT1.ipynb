{
 "cells": [
  {
   "metadata": {},
   "cell_type": "markdown",
   "source": "## Máy Turing M1 thực hiện phép cộng 1 của số nhị phân.",
   "id": "9250bf0ab4949e94"
  },
  {
   "metadata": {
    "ExecuteTime": {
     "end_time": "2025-02-18T11:07:52.475635Z",
     "start_time": "2025-02-18T11:07:47.677746Z"
    }
   },
   "cell_type": "code",
   "source": [
    "class TuringMachineM1:\n",
    "    \"\"\"\n",
    "    Ký hiệu trong máy Turing:\n",
    "    s: Trạng thái bắt đầu\n",
    "    h: Trạng thái dừng\n",
    "    q: Trạng thái cộng\n",
    "    >: Ký tự bắt đầu\n",
    "    .: Ký tự trắng\n",
    "    +: Chiều con trỏ di chuyển sang phải\n",
    "    -: Chiều con trỏ di chuyển sang trái\n",
    "    _: Con trỏ đứng yên\n",
    "    \"\"\"\n",
    "\n",
    "    def __init__(self) -> None:\n",
    "        self.transition = {\n",
    "            \"s0\": [\"s\", \"0\", \"+\"],\n",
    "            \"s1\": [\"s\", \"1\", \"+\"],\n",
    "            \"s>\": [\"s\", \">\", \"+\"],\n",
    "            \"s.\": [\"q\", \".\", \"-\"],\n",
    "\n",
    "            \"q0\": [\"h\", \"1\", \"_\"],\n",
    "            \"q1\": [\"q\", \"0\", \"-\"],\n",
    "            \"q>\": [\"h\", \">1\", \"_\"]\n",
    "        }\n",
    "\n",
    "        self.alphabet = [\"0\", \"1\"]\n",
    "        self.startChar = \">\"\n",
    "        self.endChar = \".\"\n",
    "\n",
    "    def checkValid(self, input: str):\n",
    "        start = input.startswith(self.startChar)\n",
    "        end = input.endswith(self.endChar)\n",
    "\n",
    "        if not start or not end:\n",
    "            return False\n",
    "        else:\n",
    "            for s in input[1: -1]:  # Kiểm tra các ký tự trong chuỗi\n",
    "                if s not in self.alphabet:\n",
    "                    return False\n",
    "            return True\n",
    "\n",
    "    def __call__(self, input: str):\n",
    "        assert self.checkValid(input), \"Input not valid\"\n",
    "\n",
    "        current_state = \"s\"\n",
    "        output = \"\"\n",
    "        index = 0\n",
    "        input_list = list(input)\n",
    "\n",
    "        while current_state != \"h\":\n",
    "            input_char = input_list[index]\n",
    "            state = current_state + input_char\n",
    "\n",
    "            result = self.transition[state]\n",
    "            input_list[index] = result[1]\n",
    "\n",
    "            if result[2] == \"+\":\n",
    "                index += 1\n",
    "            elif result[2] == \"-\":\n",
    "                index -= 1\n",
    "\n",
    "            current_state = result[0]\n",
    "\n",
    "        return output.join(input_list)\n",
    "\n",
    "if __name__ == \"__main__\":\n",
    "    m1 = TuringMachineM1()\n",
    "    sample_input = input(\"Nhập chuỗi nhị phân với ký tự bắt đầu là '>' và kết thúc là '.' \")\n",
    "    print(f\"Chuỗi ban đầu: {sample_input}\")\n",
    "    print(f\"Turing M1: {m1(sample_input)}\")"
   ],
   "id": "a2c00eb694716d37",
   "outputs": [
    {
     "name": "stdout",
     "output_type": "stream",
     "text": [
      "Chuỗi ban đầu: >111.\n",
      "Turing M1: >1000.\n"
     ]
    }
   ],
   "execution_count": 11
  },
  {
   "metadata": {},
   "cell_type": "markdown",
   "source": "## Máy Turing M3 thực hiện việc thay tất cả các số 0 trong một dãy nhị phân thành các số 1 và ngược lại. Ví dụ: 01001 =⇒ 10110.",
   "id": "3046387c0e91b787"
  },
  {
   "metadata": {
    "ExecuteTime": {
     "end_time": "2025-02-17T10:26:16.132497Z",
     "start_time": "2025-02-17T10:26:05.527013Z"
    }
   },
   "cell_type": "code",
   "source": [
    "class TuringMachineM3:\n",
    "    \"\"\"\n",
    "    Ký hiệu trong máy Turing:\n",
    "    s: Trạng thái bắt đầu\n",
    "    h: Trạng thái dừng\n",
    "    >: Ký tự bắt đầu\n",
    "    .: Ký tự trắng\n",
    "    +: Chiều con trỏ di chuyển sang phải\n",
    "    -: Chiều con trỏ di chuyển sang trái\n",
    "    _: Con trỏ đứng yên\n",
    "    \"\"\"\n",
    "\n",
    "    def __init__(self) -> None:\n",
    "        self.transition = {\n",
    "            \"s0\": [\"s\", \"1\", \"+\"],\n",
    "            \"s1\": [\"s\", \"0\", \"+\"],\n",
    "            \"s>\": [\"s\", \">\", \"+\"],\n",
    "            \"s.\": [\"h\", \".\", \"_\"]\n",
    "        }\n",
    "\n",
    "        self.alphabet = [\"0\", \"1\"]\n",
    "        self.startChar = \">\"\n",
    "        self.endChar = \".\"\n",
    "\n",
    "    def checkValid(self, input: str):\n",
    "        start = input.startswith(self.startChar)\n",
    "        end = input.endswith(self.endChar)\n",
    "\n",
    "        if not start or not end:\n",
    "            return False\n",
    "        else:\n",
    "            for s in input[1: -1]:\n",
    "                if s not in self.alphabet:\n",
    "                    return False\n",
    "            return True\n",
    "\n",
    "    def __call__(self, input: str):\n",
    "        assert self.checkValid(input), \"Input not valid\"\n",
    "\n",
    "        current_state = \"s\"\n",
    "        output = \"\"\n",
    "        index = 0\n",
    "\n",
    "        while current_state != \"h\":\n",
    "            input_char = input[index]\n",
    "            state = current_state + input_char\n",
    "            result = self.transition[state]\n",
    "            output += result[1]\n",
    "\n",
    "            if result[2] == \"+\":\n",
    "                index += 1\n",
    "            elif result[2] == \"-\":\n",
    "                index -= 1\n",
    "            current_state = result[0]\n",
    "\n",
    "        return output\n",
    "\n",
    "\n",
    "if __name__ == \"__main__\":\n",
    "    m3 = TuringMachineM3()\n",
    "    sample_input = input(\"Nhập chuỗi nhị phân với ký tự bắt đầu là '>' và kết thúc là '.' \")\n",
    "    print(f\"Chuỗi ban đầu: {sample_input}\")\n",
    "    print(f\"Turing M3: {m3(sample_input)}\")"
   ],
   "id": "2a35ddd8c097da9",
   "outputs": [
    {
     "name": "stdout",
     "output_type": "stream",
     "text": [
      "Chuỗi ban đầu: >1011.\n",
      "Turing M3: >0100.\n"
     ]
    }
   ],
   "execution_count": 1
  }
 ],
 "metadata": {
  "kernelspec": {
   "display_name": "Python 3",
   "language": "python",
   "name": "python3"
  },
  "language_info": {
   "codemirror_mode": {
    "name": "ipython",
    "version": 2
   },
   "file_extension": ".py",
   "mimetype": "text/x-python",
   "name": "python",
   "nbconvert_exporter": "python",
   "pygments_lexer": "ipython2",
   "version": "2.7.6"
  }
 },
 "nbformat": 4,
 "nbformat_minor": 5
}
