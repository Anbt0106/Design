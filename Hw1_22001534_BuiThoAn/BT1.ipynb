{
 "cells": [
  {
   "metadata": {},
   "cell_type": "markdown",
   "source": "## Máy Turing M1 thực hiện phép cộng 1 của số nhị phân.",
   "id": "9250bf0ab4949e94"
  },
  {
   "metadata": {},
   "cell_type": "code",
   "outputs": [],
   "execution_count": null,
   "source": "",
   "id": "a2c00eb694716d37"
  },
  {
   "metadata": {},
   "cell_type": "markdown",
   "source": "## Máy Turing M3 thực hiện việc thay tất cả các số 0 trong một dãy nhị phân thành các số 1 và ngược lại. Ví dụ: 01001 =⇒ 10110.",
   "id": "3046387c0e91b787"
  },
  {
   "metadata": {
    "ExecuteTime": {
     "end_time": "2025-02-13T16:44:06.706892Z",
     "start_time": "2025-02-13T16:44:01.114784Z"
    }
   },
   "cell_type": "code",
   "source": [
    "class TuringMachineM3:\n",
    "    \"\"\"\n",
    "    Ký hiệu trong máy Turing:\n",
    "    s: Trạng thái bắt đầu\n",
    "    h: Trạng thái dừng\n",
    "    >: Ký tự bắt đầu\n",
    "    .: Ký tự trắng\n",
    "    +: Chiều con trỏ di chuyển sang phải\n",
    "    -: Chiều con trỏ di chuyển sang trái\n",
    "    _: Con trỏ đứng yên\n",
    "    \"\"\"\n",
    "\n",
    "    def __init__(self) -> None:\n",
    "        self.transition = {\n",
    "            \"s0\": [\"s\", \"1\", \"+\"],\n",
    "            \"s1\": [\"s\", \"0\", \"+\"],\n",
    "            \"s>\": [\"s\", \">\", \"+\"],\n",
    "            \"s.\": [\"h\", \".\", \"_\"]\n",
    "        }\n",
    "\n",
    "        self.alphabet = [\"0\", \"1\"]\n",
    "        self.startChar = \">\"\n",
    "        self.endChar = \".\"\n",
    "\n",
    "    def checkValid(self, input: str):\n",
    "        start = input.startswith(self.startChar)\n",
    "        end = input.endswith(self.endChar)\n",
    "\n",
    "        if not start or not end:\n",
    "            return False\n",
    "        else:\n",
    "            for s in input[1: -1]:\n",
    "                if s not in self.alphabet:\n",
    "                    return False\n",
    "            return True\n",
    "\n",
    "    def __call__(self, input: str):\n",
    "        assert self.checkValid(input), \"Input not valid\"\n",
    "\n",
    "        current_state = \"s\"\n",
    "        output = \"\"\n",
    "        index = 0\n",
    "\n",
    "        while current_state != \"h\":\n",
    "            input_char = input[index]\n",
    "            state = current_state + input_char\n",
    "            result = self.transition[state]\n",
    "            output += result[1]\n",
    "\n",
    "            if result[2] == \"+\":\n",
    "                index += 1\n",
    "            elif result[2] == \"-\":\n",
    "                index -= 1\n",
    "            current_state = result[0]\n",
    "\n",
    "        return output\n",
    "\n",
    "\n",
    "if __name__ == \"__main__\":\n",
    "    m3 = TuringMachineM3()\n",
    "    sample_input = input(\"Nhập chuỗi nhị phân với ký tự bắt đầu là '>' và kết thúc là '.' \")\n",
    "    print(f\"Chuỗi ban đầu: {sample_input}\")\n",
    "    print(f\"Turing M3: {m3(sample_input)}\")"
   ],
   "id": "2a35ddd8c097da9",
   "outputs": [
    {
     "name": "stdout",
     "output_type": "stream",
     "text": [
      "Chuỗi ban đầu: >10101.\n",
      "Turing M3: >01010.\n"
     ]
    }
   ],
   "execution_count": 4
  }
 ],
 "metadata": {
  "kernelspec": {
   "display_name": "Python 3",
   "language": "python",
   "name": "python3"
  },
  "language_info": {
   "codemirror_mode": {
    "name": "ipython",
    "version": 2
   },
   "file_extension": ".py",
   "mimetype": "text/x-python",
   "name": "python",
   "nbconvert_exporter": "python",
   "pygments_lexer": "ipython2",
   "version": "2.7.6"
  }
 },
 "nbformat": 4,
 "nbformat_minor": 5
}
